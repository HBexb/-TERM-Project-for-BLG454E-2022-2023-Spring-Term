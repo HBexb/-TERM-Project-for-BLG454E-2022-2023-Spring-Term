{
 "cells": [
  {
   "cell_type": "markdown",
   "metadata": {},
   "source": [
    "# HeapHop30. (2019, April 18). Graph attention nets. Retrieved from https://github.com/HeapHop30/graph-attention-nets"
   ]
  },
  {
   "cell_type": "code",
   "execution_count": null,
   "metadata": {
    "colab": {},
    "colab_type": "code",
    "id": "7HPxbz9IZ1xO"
   },
   "outputs": [],
   "source": [
    "%load_ext autoreload\n",
    "%autoreload 1"
   ]
  },
  {
   "cell_type": "code",
   "execution_count": null,
   "metadata": {
    "colab": {},
    "colab_type": "code",
    "id": "kIH9phOegalY",
    "tags": []
   },
   "outputs": [],
   "source": [
    "!pip install tensorflow-gpu==2.0.0-alpha0"
   ]
  },
  {
   "cell_type": "code",
   "execution_count": 1,
   "metadata": {
    "colab": {},
    "colab_type": "code",
    "id": "5PIfldx7gczn",
    "tags": []
   },
   "outputs": [],
   "source": [
    "import os,sys,inspect\n",
    "import os\n",
    "import joblib\n",
    "import tensorflow as tf\n",
    "import numpy as np\n",
    "import h5py\n",
    "import scipy.sparse.linalg as la\n",
    "import scipy.sparse as sp\n",
    "import scipy\n",
    "import time\n",
    "import pickle\n",
    "\n",
    "from tensorflow.keras.models import Sequential\n",
    "from tensorflow.keras.layers import Layer, Dense, Flatten, Activation, Dropout, LeakyReLU, MaxPooling2D, Conv2D\n",
    "from tensorflow.keras.regularizers import l2\n",
    "from tensorflow.keras import Model\n",
    "\n",
    "import matplotlib.pyplot as plt\n",
    "from matplotlib.backends.backend_pdf import PdfPages\n",
    "%matplotlib inline\n",
    "\n",
    "import scipy.io as sio"
   ]
  },
  {
   "cell_type": "code",
   "execution_count": 2,
   "metadata": {
    "colab": {},
    "colab_type": "code",
    "id": "m0SNsOTAotwp",
    "tags": []
   },
   "outputs": [],
   "source": [
    "import graph\n",
    "import coarsening\n",
    "import utils"
   ]
  },
  {
   "cell_type": "code",
   "execution_count": 3,
   "metadata": {
    "colab": {},
    "colab_type": "code",
    "id": "EXFo5cxHpBqH",
    "tags": []
   },
   "outputs": [],
   "source": [
    "# Graphs.\n",
    "number_edges = 8\n",
    "metric ='euclidean'\n",
    "normalized_laplacian = True\n",
    "coarsening_levels = 4\n",
    "len_img = 28\n",
    "\n",
    "np.random.seed(0)"
   ]
  },
  {
   "cell_type": "code",
   "execution_count": 4,
   "metadata": {
    "colab": {},
    "colab_type": "code",
    "id": "mXMSAHpUplhM",
    "tags": []
   },
   "outputs": [],
   "source": [
    "# Useful functions\n",
    "\n",
    "def grid_graph(m):\n",
    "  z = graph.grid(m)  # normalized nodes coordinates\n",
    "  dist, idx = graph.distance_sklearn_metrics(z, k=number_edges, metric=metric) \n",
    "  #dist contains the distance of the 8 nearest neighbors for each node indicated in z sorted in ascending order\n",
    "  #idx contains the indexes of the 8 nearest for each node sorted in ascending order by distance\n",
    "\n",
    "  A = graph.adjacency(dist, idx)  # graph.adjacency() builds a sparse matrix out of the identified edges computing similarities as: A_{ij} = e^(-dist_{ij}^2/sigma^2)\n",
    "\n",
    "  return A, z\n",
    "\n",
    "  \n",
    "def plot_matrix(m):\n",
    "  plt.figure(figsize = (10, 10))\n",
    "  plt.imshow(m.toarray())\n",
    "  plt.show\n",
    "\n",
    "\n",
    "# A friend helped me a lot with this function, so you will find something similar in other assignment\n",
    "def coarsen_mnist(A, levels, nodes_coordinates):\n",
    "    graphs, parents = coarsening.metis(A, levels) #Coarsen a graph multiple times using Graclus variation of the METIS algorithm. \n",
    "                                                  #Basically, we randomly sort the nodes, we iterate on them and we decided to group each node\n",
    "                                                  #with the neighbor having highest w_ij * 1/(\\sum_k w_ik) + w_ij * 1/(\\sum_k w_kj) \n",
    "                                                  #i.e. highest sum of probabilities to randomly walk from i to j and from j to i.\n",
    "                                                  #We thus favour strong connections (i.e. the ones with high weight wrt all the others for both nodes) \n",
    "                                                  #in the choice of the neighbor of each node.\n",
    "                    \n",
    "                                                  #Construction is done a priori, so we have one graph for all the samples!\n",
    "                    \n",
    "                                                  #graphs = list of spare adjacency matrices (it contains in position \n",
    "                                                  #          0 the original graph)\n",
    "                                                  #parents = list of numpy arrays (every array in position i contains \n",
    "                                                  #           the mapping from graph i to graph i+1, i.e. the idx of\n",
    "                                                  #           node i in the coarsed graph -> that is, the idx of its cluster) \n",
    "    perms = coarsening.compute_perm(parents) #Return a list of indices to reorder the adjacency and data matrices so\n",
    "                                             #that two consecutive nodes correspond to neighbors that should be collapsed\n",
    "                                             #to produce the coarsed version of the graph.\n",
    "                                             #Fake nodes are appended for each node which is not grouped with anybody else\n",
    "    \n",
    "    coordinates = np.copy(nodes_coordinates)\n",
    "    u_shape, u_rows, u_cols, u_val = [], [], [], []\n",
    "    \n",
    "    for i,A in enumerate(graphs):\n",
    "        M, M = A.shape\n",
    "\n",
    "        # We remove self-connections created by metis.\n",
    "        A = A.tocoo()\n",
    "        A.setdiag(0)\n",
    "\n",
    "        if i < levels: #if we have to pool the graph \n",
    "            A = coarsening.perm_adjacency(A, perms[i]) #matrix A is here extended with the fakes nodes\n",
    "                                                       #in order to do an efficient pooling operation\n",
    "                                                       #in tensorflow as it was a 1D pooling\n",
    "\n",
    "        A = A.tocsr()\n",
    "        A.eliminate_zeros()\n",
    "        \n",
    "        Mnew, Mnew = A.shape\n",
    "        u_shape.append(Mnew)\n",
    "        \n",
    "        if i == 0:\n",
    "            fake_nodes = Mnew - M\n",
    "            coordinates = np.concatenate([coordinates, np.ones([fake_nodes, 2])*np.inf], 0)\n",
    "            coordinates = coordinates[perms[0]]\n",
    "        \n",
    "        start_node, end_node = A.nonzero()\n",
    "        u_rows.append(start_node)\n",
    "        u_cols.append(end_node)\n",
    "        \n",
    "        distance = coordinates[start_node] - coordinates[end_node]\n",
    "        u_val.append(distance)\n",
    "        \n",
    "        print('Layer {0}: M_{0} = |V| = {1} nodes ({2} added), |E| = {3} edges'.format(i, Mnew, Mnew-M, A.nnz//2))\n",
    "        \n",
    "        # update coordinates for next coarser graph\n",
    "        new_coordinates = []\n",
    "        for k in range(A.shape[0]//2):\n",
    "            idx_first_el = k * 2\n",
    "            \n",
    "            if not np.isfinite(coordinates[idx_first_el][0]):\n",
    "                new_coordinates.append(coordinates[idx_first_el+1])\n",
    "                \n",
    "            elif not np.isfinite(coordinates[idx_first_el+1][0]):\n",
    "                new_coordinates.append(coordinates[idx_first_el])\n",
    "                \n",
    "            else:\n",
    "                new_coordinates.append(np.mean(coordinates[idx_first_el:idx_first_el+2], axis=0))\n",
    "                \n",
    "        coordinates = np.asarray(new_coordinates)\n",
    "\n",
    "    return u_shape, u_rows, u_cols, u_val, perms[0]\n"
   ]
  },
  {
   "cell_type": "code",
   "execution_count": 5,
   "metadata": {
    "colab": {
     "base_uri": "https://localhost:8080/",
     "height": 34
    },
    "colab_type": "code",
    "executionInfo": {
     "elapsed": 1085,
     "status": "ok",
     "timestamp": 1555585216150,
     "user": {
      "displayName": "Alessia Ruggeri",
      "photoUrl": "",
      "userId": "01098494933204128714"
     },
     "user_tz": -120
    },
    "id": "K0lm_TPFmTb2",
    "outputId": "b1c11137-bc54-459d-d995-202559f80896",
    "tags": []
   },
   "outputs": [
    {
     "name": "stdout",
     "output_type": "stream",
     "text": [
      "(51000, 784)\n"
     ]
    }
   ],
   "source": [
    "# Load fashion_MNIST dataset\n",
    "\n",
    "fashion_mnist = tf.keras.datasets.fashion_mnist\n",
    "\n",
    "(x_train, y_train), (x_test, y_test) = fashion_mnist.load_data()\n",
    "x_train = x_train.astype(np.float32) / 255\n",
    "x_test = x_test.astype(np.float32) / 255\n",
    "y_train = y_train.astype(np.float32) \n",
    "y_test = y_test.astype(np.float32)\n",
    "\n",
    "val_n = len(x_train)//100 * 15\n",
    "(x_val, y_val) = x_train[0:val_n], y_train[0:val_n]\n",
    "(x_train, y_train) = x_train[val_n:], y_train[val_n:]\n",
    "x_val = x_val.astype(np.float32)\n",
    "y_val = y_val.astype(np.float32)\n",
    "\n",
    "x_train_original = x_train.reshape(-1, len_img*len_img)\n",
    "x_val_original = x_val.reshape(-1, len_img*len_img)\n",
    "x_test_original = x_test.reshape(-1, len_img*len_img)\n",
    "\n",
    "print(x_train_original.shape)"
   ]
  },
  {
   "cell_type": "code",
   "execution_count": 6,
   "metadata": {
    "colab": {
     "base_uri": "https://localhost:8080/",
     "height": 102
    },
    "colab_type": "code",
    "executionInfo": {
     "elapsed": 752,
     "status": "ok",
     "timestamp": 1555585216151,
     "user": {
      "displayName": "Alessia Ruggeri",
      "photoUrl": "",
      "userId": "01098494933204128714"
     },
     "user_tz": -120
    },
    "id": "TSkRCyz2POPC",
    "outputId": "d9440911-37a1-486b-bc1d-1aae99ab0e37",
    "tags": []
   },
   "outputs": [
    {
     "name": "stdout",
     "output_type": "stream",
     "text": [
      "Layer 0: M_0 = |V| = 1024 nodes (240 added), |E| = 3198 edges\n",
      "Layer 1: M_1 = |V| = 512 nodes (103 added), |E| = 1448 edges\n",
      "Layer 2: M_2 = |V| = 256 nodes (38 added), |E| = 691 edges\n",
      "Layer 3: M_3 = |V| = 128 nodes (10 added), |E| = 347 edges\n",
      "Layer 4: M_4 = |V| = 64 nodes (0 added), |E| = 171 edges\n"
     ]
    }
   ],
   "source": [
    "# Create u\n",
    "\n",
    "n_rows_cols = 28\n",
    "A, nodes_coordinates = grid_graph(n_rows_cols)\n",
    "u_shape, u_rows, u_cols, u_val, perm = coarsen_mnist(A, coarsening_levels, nodes_coordinates)\n",
    "\n",
    "u = []\n",
    "for level in range(coarsening_levels):\n",
    "    u.append([u_shape[level], u_rows[level], u_cols[level], u_val[level]])"
   ]
  },
  {
   "cell_type": "code",
   "execution_count": 7,
   "metadata": {
    "colab": {
     "base_uri": "https://localhost:8080/",
     "height": 34
    },
    "colab_type": "code",
    "executionInfo": {
     "elapsed": 2740,
     "status": "ok",
     "timestamp": 1555585218510,
     "user": {
      "displayName": "Alessia Ruggeri",
      "photoUrl": "",
      "userId": "01098494933204128714"
     },
     "user_tz": -120
    },
    "id": "-ba6B2RolJkb",
    "outputId": "79b53373-217b-4f66-c35e-5a67193518e5",
    "tags": []
   },
   "outputs": [
    {
     "name": "stdout",
     "output_type": "stream",
     "text": [
      "(51000, 1024, 1)\n"
     ]
    }
   ],
   "source": [
    "# Coarsen dataset\n",
    "\n",
    "x_train = coarsening.perm_data(x_train_original, perm)\n",
    "x_val = coarsening.perm_data(x_val_original, perm)\n",
    "x_test = coarsening.perm_data(x_test_original, perm)\n",
    "\n",
    "x_train = np.expand_dims(x_train, -1)\n",
    "x_val = np.expand_dims(x_val, -1)\n",
    "x_test = np.expand_dims(x_test, -1)\n",
    "\n",
    "print(x_train.shape)"
   ]
  },
  {
   "cell_type": "code",
   "execution_count": 8,
   "metadata": {
    "colab": {},
    "colab_type": "code",
    "id": "9Zza-BK0mNOh",
    "tags": []
   },
   "outputs": [],
   "source": [
    "# Create Gaussian weightning \n",
    "\n",
    "class Weighting(Layer):\n",
    "\n",
    "  def __init__(self, u, d, batch_size, **kwargs):\n",
    "    self.u = u\n",
    "    self.d = d\n",
    "    self.batch_size = batch_size\n",
    "    super(Weighting, self).__init__(**kwargs)\n",
    "\n",
    "  def build(self, input_shape):\n",
    "    self.mu = self.add_weight(name='mu',\n",
    "                              shape=(1, self.d),\n",
    "                              initializer='uniform',\n",
    "                              trainable=True)\n",
    "    self.sigma = self.add_weight(name='sigma',\n",
    "                                 shape=(1, self.d),\n",
    "                                 initializer='uniform',\n",
    "                                 trainable=True)\n",
    "    super(Weighting, self).build(input_shape)  \n",
    "\n",
    "  def call(self, X):\n",
    "    batch_size, n_nodes, n_features = X.shape\n",
    "    batch_size = self.batch_size\n",
    "    u_shape, u_rows, u_cols, u_val = self.u\n",
    "\n",
    "    diff =  tf.square(u_val - self.mu)\n",
    "    factor = tf.square(self.sigma) + 1e-14\n",
    "    weights = -0.5 * (diff / factor)\n",
    "    weights = tf.math.reduce_sum(weights, axis=1)\n",
    "\n",
    "    weights = tf.SparseTensor(indices=np.vstack([u_rows, u_cols]).T, \n",
    "                              values=weights, \n",
    "                              dense_shape=[u_shape]*2)\n",
    "    weights = tf.sparse.reorder(weights)\n",
    "    weights = tf.sparse.softmax(weights)\n",
    "    \n",
    "    X_t = tf.reshape(tf.transpose(X, [1,2,0]), [n_nodes, batch_size * n_features])\n",
    "    \n",
    "    D = tf.sparse.sparse_dense_matmul(weights, X_t)\n",
    "    D = tf.transpose(tf.reshape(D, [n_nodes, n_features, batch_size]), [2,0,1])\n",
    "    \n",
    "    return D\n",
    "    \n",
    "  def compute_output_shape(self, input_shape):\n",
    "    return (input_shape[0], self.output_dim)\n",
    "\n",
    "  \n",
    "# Create Gaussian (kernel) layer\n",
    "\n",
    "class MoNet(Layer):\n",
    "\n",
    "  def __init__(self, u, d, n_gaussian, n_hidden, batch_size, **kwargs):\n",
    "    self.u = u\n",
    "    self.d = d\n",
    "    self.n_gaussian = n_gaussian\n",
    "    self.n_hidden = n_hidden\n",
    "    self.batch_size = batch_size\n",
    "    \n",
    "    self.weightings = []\n",
    "    for k in range(self.n_gaussian):\n",
    "      weighting = Weighting(self.u, self.d, self.batch_size, trainable=True)\n",
    "      self.weightings.append(weighting)\n",
    "      \n",
    "    super(MoNet, self).__init__(**kwargs)\n",
    "\n",
    "  def build(self, input_shape):\n",
    "    self.W = self.add_weight(name='W', \n",
    "                             shape=(input_shape[-1] * self.n_gaussian, self.n_hidden),\n",
    "                             initializer='uniform',\n",
    "                             trainable=True)\n",
    "\n",
    "    super(MoNet, self).build(input_shape)  # Be sure to call this at the end\n",
    "\n",
    "  def call(self, X):\n",
    "    weightings = []\n",
    "    for k in range(self.n_gaussian):\n",
    "      weighting = self.weightings[k](X)\n",
    "      weightings.append(weighting)\n",
    "    \n",
    "    weights = tf.transpose(tf.stack(weightings), [1,2,3,0])\n",
    "    \n",
    "    batch_size, n_nodes, n_features = X.shape\n",
    "    batch_size = self.batch_size\n",
    "    weights = tf.reshape(weights, [batch_size*n_nodes, n_features*self.n_gaussian])\n",
    "    \n",
    "    h = weights @ self.W\n",
    "    h = tf.reshape(h, [batch_size, n_nodes, self.n_hidden])\n",
    "\n",
    "    return h\n",
    "\n",
    "  def compute_output_shape(self, input_shape):\n",
    "    return (input_shape[1], self.n_hidden)\n",
    "\n",
    "  \n",
    "class MPool1(Layer):\n",
    "      def __init__(self, p, **kwargs):\n",
    "         self.p = p\n",
    "         super(MPool1, self).__init__(**kwargs)\n",
    "     \n",
    "      def call(self, X):\n",
    "        \"\"\"Max pooling of size p. Should be a power of 2 (this is possible thanks to the reordering we previously did).\"\"\"\n",
    "        if self.p > 1:\n",
    "          X = tf.expand_dims(X, 3)  # shape = N x M x F x 1\n",
    "          X = tf.nn.max_pool(X, ksize=[1,self.p,1,1], strides=[1, self.p,1,1], padding='SAME')\n",
    "          X = tf.squeeze(X, [3])  # shape = N x M/p x F\n",
    "        return X\n",
    "          \n",
    "      def compute_output_shape(self, input_shape):\n",
    "        return input_shape# Create Gaussian weightning \n",
    "\n",
    "class Weighting(Layer):\n",
    "\n",
    "  def __init__(self, u, d, batch_size, **kwargs):\n",
    "    self.u = u\n",
    "    self.d = d\n",
    "    self.batch_size = batch_size\n",
    "    super(Weighting, self).__init__(**kwargs)\n",
    "\n",
    "  def build(self, input_shape):\n",
    "    self.mu = self.add_weight(name='mu',\n",
    "                              shape=(1, self.d),\n",
    "                              initializer='uniform',\n",
    "                              trainable=True)\n",
    "    self.sigma = self.add_weight(name='sigma',\n",
    "                                 shape=(1, self.d),\n",
    "                                 initializer='uniform',\n",
    "                                 trainable=True)\n",
    "    super(Weighting, self).build(input_shape)  \n",
    "\n",
    "  def call(self, X):\n",
    "    batch_size, n_nodes, n_features = X.shape\n",
    "    batch_size = self.batch_size\n",
    "    u_shape, u_rows, u_cols, u_val = self.u\n",
    "\n",
    "    diff =  tf.square(u_val - self.mu)\n",
    "    factor = tf.square(self.sigma) + 1e-14\n",
    "    weights = -0.5 * (diff / factor)\n",
    "    weights = tf.math.reduce_sum(weights, axis=1)\n",
    "\n",
    "    weights = tf.SparseTensor(indices=np.vstack([u_rows, u_cols]).T, \n",
    "                              values=weights, \n",
    "                              dense_shape=[u_shape]*2)\n",
    "    weights = tf.sparse.reorder(weights)\n",
    "    weights = tf.sparse.softmax(weights)\n",
    "    \n",
    "    X_t = tf.reshape(tf.transpose(X, [1,2,0]), [n_nodes, batch_size * n_features])\n",
    "    \n",
    "    D = tf.sparse.sparse_dense_matmul(weights, X_t)\n",
    "    D = tf.transpose(tf.reshape(D, [n_nodes, n_features, batch_size]), [2,0,1])\n",
    "    \n",
    "    return D\n",
    "    \n",
    "  def compute_output_shape(self, input_shape):\n",
    "    return (input_shape[0], self.output_dim)\n",
    "\n",
    "  \n",
    "# Create Gaussian (kernel) layer\n",
    "\n",
    "class MoNet(Layer):\n",
    "\n",
    "  def __init__(self, u, d, n_gaussian, n_hidden, batch_size, **kwargs):\n",
    "    self.u = u\n",
    "    self.d = d\n",
    "    self.n_gaussian = n_gaussian\n",
    "    self.n_hidden = n_hidden\n",
    "    self.batch_size = batch_size\n",
    "    \n",
    "    self.weightings = []\n",
    "    for k in range(self.n_gaussian):\n",
    "      weighting = Weighting(self.u, self.d, self.batch_size, trainable=True)\n",
    "      self.weightings.append(weighting)\n",
    "      \n",
    "    super(MoNet, self).__init__(**kwargs)\n",
    "\n",
    "  def build(self, input_shape):\n",
    "    self.W = self.add_weight(name='W', \n",
    "                             shape=(input_shape[-1] * self.n_gaussian, self.n_hidden),\n",
    "                             initializer='uniform',\n",
    "                             trainable=True)\n",
    "\n",
    "    super(MoNet, self).build(input_shape)  # Be sure to call this at the end\n",
    "\n",
    "  def call(self, X):\n",
    "    weightings = []\n",
    "    for k in range(self.n_gaussian):\n",
    "      weighting = self.weightings[k](X)\n",
    "      weightings.append(weighting)\n",
    "    \n",
    "    weights = tf.transpose(tf.stack(weightings), [1,2,3,0])\n",
    "    \n",
    "    batch_size, n_nodes, n_features = X.shape\n",
    "    batch_size = self.batch_size\n",
    "    weights = tf.reshape(weights, [batch_size*n_nodes, n_features*self.n_gaussian])\n",
    "    \n",
    "    h = weights @ self.W\n",
    "    h = tf.reshape(h, [batch_size, n_nodes, self.n_hidden])\n",
    "\n",
    "    return h\n",
    "\n",
    "  def compute_output_shape(self, input_shape):\n",
    "    return (input_shape[1], self.n_hidden)\n",
    "\n",
    "  \n",
    "class MPool1(Layer):\n",
    "      def __init__(self, p, **kwargs):\n",
    "         self.p = p\n",
    "         super(MPool1, self).__init__(**kwargs)\n",
    "     \n",
    "      def call(self, X):\n",
    "        \"\"\"Max pooling of size p. Should be a power of 2 (this is possible thanks to the reordering we previously did).\"\"\"\n",
    "        if self.p > 1:\n",
    "          X = tf.expand_dims(X, 3)  # shape = N x M x F x 1\n",
    "          X = tf.nn.max_pool(X, ksize=[1,self.p,1,1], strides=[1, self.p,1,1], padding='SAME')\n",
    "          X = tf.squeeze(X, [3])  # shape = N x M/p x F\n",
    "        return X\n",
    "          \n",
    "      def compute_output_shape(self, input_shape):\n",
    "        return input_shape"
   ]
  },
  {
   "cell_type": "code",
   "execution_count": 13,
   "metadata": {
    "colab": {},
    "colab_type": "code",
    "id": "yTY1XkVFmO6j",
    "tags": []
   },
   "outputs": [],
   "source": [
    "# Hyperparameters\n",
    "\n",
    "epochs=10\n",
    "# For this implementation, batch_size needs to be a divisor of the number of samples (x_train = 51000 samples)\n",
    "batch_size = 10\n",
    "d = 2\n",
    "n_classes=10\n",
    "n_gaussian = 25\n",
    "\n",
    "dropout = 0.5\n",
    "learning_rate = 1e-4\n",
    "reg = l2(5e-4)\n",
    "momentum = 0.8\n",
    "p = 4"
   ]
  },
  {
   "cell_type": "markdown",
   "metadata": {},
   "source": [
    "# Model with MoNet"
   ]
  },
  {
   "cell_type": "code",
   "execution_count": 14,
   "metadata": {
    "colab": {},
    "colab_type": "code",
    "id": "zye12JRhWRPc",
    "tags": []
   },
   "outputs": [
    {
     "name": "stderr",
     "output_type": "stream",
     "text": [
      "WARNING:absl:At this time, the v2.11+ optimizer `tf.keras.optimizers.RMSprop` runs slowly on M1/M2 Macs, please use the legacy Keras optimizer instead, located at `tf.keras.optimizers.legacy.RMSprop`.\n",
      "WARNING:absl:There is a known slowdown when using v2.11+ Keras optimizers on M1/M2 Macs. Falling back to the legacy Keras optimizer, i.e., `tf.keras.optimizers.legacy.RMSprop`.\n"
     ]
    }
   ],
   "source": [
    "# Build the model\n",
    "\n",
    "model = Sequential()\n",
    "model.add(MoNet(u=u[0], d=d, n_gaussian=n_gaussian, n_hidden=32, batch_size=batch_size, trainable=True))\n",
    "model.add(MPool1(p=p))\n",
    "model.add(tf.keras.layers.Dropout(0.25))\n",
    "model.add(MoNet(u=u[2], d=d, n_gaussian=n_gaussian, n_hidden=64, batch_size=batch_size, trainable=True))\n",
    "model.add(MPool1(p=p))\n",
    "model.add(tf.keras.layers.Dropout(0.25))\n",
    "model.add(Flatten())\n",
    "model.add(Dense(512, activation='relu', kernel_regularizer=reg))\n",
    "model.add(Dropout(dropout))\n",
    "model.add(Dense(n_classes, activation='softmax', kernel_regularizer=reg))\n",
    "\n",
    "model.compile(optimizer=tf.optimizers.RMSprop(learning_rate=learning_rate, momentum=momentum),\n",
    "              loss='sparse_categorical_crossentropy',\n",
    "              metrics=['accuracy'])\n"
   ]
  },
  {
   "cell_type": "code",
   "execution_count": 15,
   "metadata": {
    "tags": []
   },
   "outputs": [
    {
     "data": {
      "text/plain": [
       "((51000, 1024, 1), (51000,), (9000, 1024, 1), (9000,))"
      ]
     },
     "execution_count": 15,
     "metadata": {},
     "output_type": "execute_result"
    }
   ],
   "source": [
    "x_train.shape, y_train.shape, x_val.shape, y_val.shape"
   ]
  },
  {
   "cell_type": "code",
   "execution_count": 16,
   "metadata": {
    "colab": {
     "base_uri": "https://localhost:8080/",
     "height": 391
    },
    "colab_type": "code",
    "executionInfo": {
     "elapsed": 1054233,
     "status": "ok",
     "timestamp": 1555587795605,
     "user": {
      "displayName": "Alessia Ruggeri",
      "photoUrl": "",
      "userId": "01098494933204128714"
     },
     "user_tz": -120
    },
    "id": "Mo0ke2hPVST0",
    "outputId": "b2292518-4513-4f6e-8707-eaff263cab6f",
    "tags": []
   },
   "outputs": [
    {
     "name": "stdout",
     "output_type": "stream",
     "text": [
      "Epoch 1/10\n",
      "5100/5100 [==============================] - 375s 73ms/step - loss: 0.7032 - accuracy: 0.8205 - val_loss: 0.5332 - val_accuracy: 0.8661\n",
      "Epoch 2/10\n",
      "5100/5100 [==============================] - 365s 72ms/step - loss: 0.5931 - accuracy: 0.8531 - val_loss: 0.5644 - val_accuracy: 0.8539\n",
      "Epoch 3/10\n",
      "5100/5100 [==============================] - 545s 107ms/step - loss: 0.5884 - accuracy: 0.8586 - val_loss: 0.4935 - val_accuracy: 0.8901\n",
      "Epoch 4/10\n",
      "5100/5100 [==============================] - 548s 107ms/step - loss: 0.5889 - accuracy: 0.8621 - val_loss: 0.5174 - val_accuracy: 0.8821\n",
      "Epoch 5/10\n",
      "5100/5100 [==============================] - 525s 103ms/step - loss: 0.5907 - accuracy: 0.8631 - val_loss: 0.5227 - val_accuracy: 0.8879\n",
      "Epoch 6/10\n",
      "5100/5100 [==============================] - 411s 81ms/step - loss: 0.5904 - accuracy: 0.8661 - val_loss: 0.5388 - val_accuracy: 0.8762\n",
      "Epoch 7/10\n",
      "5100/5100 [==============================] - 385s 75ms/step - loss: 0.5933 - accuracy: 0.8671 - val_loss: 0.5343 - val_accuracy: 0.8801\n",
      "Epoch 8/10\n",
      "5100/5100 [==============================] - 389s 76ms/step - loss: 0.5982 - accuracy: 0.8665 - val_loss: 0.5323 - val_accuracy: 0.8839\n",
      "Epoch 9/10\n",
      "5100/5100 [==============================] - 381s 75ms/step - loss: 0.6024 - accuracy: 0.8677 - val_loss: 0.5356 - val_accuracy: 0.8824\n",
      "Epoch 10/10\n",
      "5100/5100 [==============================] - 377s 74ms/step - loss: 0.6034 - accuracy: 0.8680 - val_loss: 0.5191 - val_accuracy: 0.8894\n"
     ]
    },
    {
     "data": {
      "text/plain": [
       "<keras.callbacks.History at 0x2807ec700>"
      ]
     },
     "execution_count": 16,
     "metadata": {},
     "output_type": "execute_result"
    }
   ],
   "source": [
    "# Train the model\n",
    "\n",
    "model.fit(x_train, y_train, validation_data=(x_val, y_val), epochs=epochs, batch_size=batch_size)"
   ]
  },
  {
   "cell_type": "code",
   "execution_count": 17,
   "metadata": {
    "colab": {
     "base_uri": "https://localhost:8080/",
     "height": 51
    },
    "colab_type": "code",
    "executionInfo": {
     "elapsed": 1061888,
     "status": "ok",
     "timestamp": 1555587803935,
     "user": {
      "displayName": "Alessia Ruggeri",
      "photoUrl": "",
      "userId": "01098494933204128714"
     },
     "user_tz": -120
    },
    "id": "FVjDlOuwFb8x",
    "outputId": "94cd8d6e-4456-4244-f2c4-97673c2ee91b",
    "tags": []
   },
   "outputs": [
    {
     "name": "stdout",
     "output_type": "stream",
     "text": [
      "1000/1000 [==============================] - 21s 21ms/step - loss: 0.5469 - accuracy: 0.8803\n"
     ]
    },
    {
     "data": {
      "text/plain": [
       "[0.5468612313270569, 0.880299985408783]"
      ]
     },
     "execution_count": 17,
     "metadata": {},
     "output_type": "execute_result"
    }
   ],
   "source": [
    "model.evaluate(x_test, y_test, batch_size=batch_size)"
   ]
  },
  {
   "cell_type": "code",
   "execution_count": 22,
   "metadata": {
    "tags": []
   },
   "outputs": [
    {
     "data": {
      "image/png": "[encoded data removed]",
      "text/plain": [
       "<Figure size 640x480 with 1 Axes>"
      ]
     },
     "metadata": {},
     "output_type": "display_data"
    }
   ],
   "source": [
    "import networkx as nx\n",
    "import matplotlib.pyplot as plt\n",
    "\n",
    "G = nx.Graph()\n",
    "\n",
    "# Add input layer separately\n",
    "input_layer = model.layers[0]\n",
    "G.add_node(input_layer.name)\n",
    "\n",
    "# Add the remaining layers\n",
    "for layer in model.layers[1:]:\n",
    "    G.add_node(layer.name)\n",
    "\n",
    "# Add edges between layers\n",
    "for layer in model.layers[1:]:\n",
    "    inbound_layers = layer._inbound_nodes[0].inbound_layers\n",
    "    if isinstance(inbound_layers, list):\n",
    "        for inbound_layer in inbound_layers:\n",
    "            G.add_edge(inbound_layer.name, layer.name)\n",
    "    else:\n",
    "        G.add_edge(inbound_layers.name, layer.name)\n",
    "\n",
    "# Customize node and edge colors\n",
    "node_color = 'aqua'\n",
    "edge_color = 'gray'\n",
    "\n",
    "# Set node positions using a spring layout\n",
    "pos = nx.spring_layout(G)\n",
    "\n",
    "# Draw nodes and edges\n",
    "nx.draw_networkx_nodes(G, pos, node_color=node_color, edgecolors='black')\n",
    "nx.draw_networkx_edges(G, pos, edge_color=edge_color)\n",
    "\n",
    "# Add node labels\n",
    "labels = {node: node for node in G.nodes}\n",
    "nx.draw_networkx_labels(G, pos, labels, font_size=10)\n",
    "\n",
    "# Adjust plot margins\n",
    "ax = plt.gca()\n",
    "ax.margins(0.15)\n",
    "\n",
    "# Remove axis ticks\n",
    "plt.xticks([])\n",
    "plt.yticks([])\n",
    "\n",
    "# Show the plot\n",
    "plt.show()\n"
   ]
  },
  {
   "cell_type": "code",
   "execution_count": 24,
   "metadata": {
    "tags": []
   },
   "outputs": [
    {
     "name": "stdout",
     "output_type": "stream",
     "text": [
      "Model: \"sequential_1\"\n",
      "_________________________________________________________________\n",
      " Layer (type)                Output Shape              Param #   \n",
      "=================================================================\n",
      " mo_net_2 (MoNet)            (10, 1024, 32)            900       \n",
      "                                                                 \n",
      " m_pool1_2 (MPool1)          (10, 256, 32)             0         \n",
      "                                                                 \n",
      " dropout_3 (Dropout)         (10, 256, 32)             0         \n",
      "                                                                 \n",
      " mo_net_3 (MoNet)            (10, 256, 64)             51300     \n",
      "                                                                 \n",
      " m_pool1_3 (MPool1)          (10, 64, 64)              0         \n",
      "                                                                 \n",
      " dropout_4 (Dropout)         (10, 64, 64)              0         \n",
      "                                                                 \n",
      " flatten_1 (Flatten)         (10, 4096)                0         \n",
      "                                                                 \n",
      " dense_2 (Dense)             (10, 512)                 2097664   \n",
      "                                                                 \n",
      " dropout_5 (Dropout)         (10, 512)                 0         \n",
      "                                                                 \n",
      " dense_3 (Dense)             (10, 10)                  5130      \n",
      "                                                                 \n",
      "=================================================================\n",
      "Total params: 2,154,994\n",
      "Trainable params: 2,154,994\n",
      "Non-trainable params: 0\n",
      "_________________________________________________________________\n"
     ]
    }
   ],
   "source": [
    "model.summary()"
   ]
  },
  {
   "cell_type": "markdown",
   "metadata": {},
   "source": [
    "# Model 2"
   ]
  },
  {
   "cell_type": "code",
   "execution_count": 30,
   "metadata": {
    "tags": []
   },
   "outputs": [],
   "source": [
    "# Hyperparameters\n",
    "\n",
    "epochs=10\n",
    "# For this implementation, batch_size needs to be a divisor of the number of samples (x_train = 51000 samples)\n",
    "batch_size = 10\n",
    "d = 2\n",
    "n_classes=10\n",
    "n_gaussian = 25\n",
    "\n",
    "dropout = 0.5\n",
    "learning_rate = 1e-5\n",
    "reg = l2(1e-4)\n",
    "momentum = 0.8\n",
    "p = 4"
   ]
  },
  {
   "cell_type": "code",
   "execution_count": 51,
   "metadata": {
    "tags": []
   },
   "outputs": [],
   "source": [
    "# Build the model\n",
    "\n",
    "model = Sequential()\n",
    "model.add(MoNet(u=u[0], d=d, n_gaussian=n_gaussian, n_hidden=32, batch_size=batch_size, trainable=True))\n",
    "model.add(MPool1(p=p))\n",
    "model.add(tf.keras.layers.Dropout(0.25))\n",
    "model.add(MoNet(u=u[2], d=d, n_gaussian=n_gaussian, n_hidden=64, batch_size=batch_size, trainable=True))\n",
    "model.add(MPool1(p=p))\n",
    "model.add(tf.keras.layers.Dropout(0.25))\n",
    "model.add(Flatten())\n",
    "model.add(Dense(512, activation='relu', kernel_regularizer=reg))\n",
    "model.add(Dropout(dropout))\n",
    "model.add(Dense(n_classes, activation='softmax', kernel_regularizer=reg))\n",
    "\n",
    "model.compile(optimizer='adam',\n",
    "              loss='sparse_categorical_crossentropy',\n",
    "              metrics=['accuracy'])\n"
   ]
  },
  {
   "cell_type": "code",
   "execution_count": 52,
   "metadata": {
    "tags": []
   },
   "outputs": [
    {
     "name": "stdout",
     "output_type": "stream",
     "text": [
      "Epoch 1/10\n",
      "5100/5100 [==============================] - 344s 67ms/step - loss: 0.7026 - accuracy: 0.8126 - val_loss: 0.6248 - val_accuracy: 0.8561\n",
      "Epoch 2/10\n",
      "5100/5100 [==============================] - 353s 69ms/step - loss: 0.6884 - accuracy: 0.8397 - val_loss: 0.5948 - val_accuracy: 0.8771\n",
      "Epoch 3/10\n",
      "5100/5100 [==============================] - 357s 70ms/step - loss: 0.6783 - accuracy: 0.8477 - val_loss: 0.6059 - val_accuracy: 0.8722\n",
      "Epoch 4/10\n",
      "5100/5100 [==============================] - 352s 69ms/step - loss: 0.6703 - accuracy: 0.8492 - val_loss: 0.5824 - val_accuracy: 0.8824\n",
      "Epoch 5/10\n",
      "5100/5100 [==============================] - 347s 68ms/step - loss: 0.6679 - accuracy: 0.8520 - val_loss: 0.5610 - val_accuracy: 0.8863\n",
      "Epoch 6/10\n",
      "5100/5100 [==============================] - 350s 69ms/step - loss: 0.6570 - accuracy: 0.8527 - val_loss: 0.5720 - val_accuracy: 0.8816\n",
      "Epoch 7/10\n",
      "5100/5100 [==============================] - 355s 70ms/step - loss: 0.6473 - accuracy: 0.8551 - val_loss: 0.5611 - val_accuracy: 0.8803\n",
      "Epoch 8/10\n",
      "5100/5100 [==============================] - 352s 69ms/step - loss: 0.6441 - accuracy: 0.8558 - val_loss: 0.5784 - val_accuracy: 0.8681\n",
      "Epoch 9/10\n",
      "5100/5100 [==============================] - 357s 70ms/step - loss: 0.6403 - accuracy: 0.8571 - val_loss: 0.5299 - val_accuracy: 0.8868\n",
      "Epoch 10/10\n",
      "5100/5100 [==============================] - 357s 70ms/step - loss: 0.6415 - accuracy: 0.8565 - val_loss: 0.5455 - val_accuracy: 0.8832\n"
     ]
    },
    {
     "data": {
      "text/plain": [
       "<keras.callbacks.History at 0x176f85970>"
      ]
     },
     "execution_count": 52,
     "metadata": {},
     "output_type": "execute_result"
    }
   ],
   "source": [
    "# Train the model\n",
    "\n",
    "model.fit(x_train, y_train, validation_data=(x_val, y_val), epochs=epochs, batch_size=batch_size)"
   ]
  },
  {
   "cell_type": "code",
   "execution_count": 53,
   "metadata": {
    "tags": []
   },
   "outputs": [
    {
     "name": "stdout",
     "output_type": "stream",
     "text": [
      "1000/1000 [==============================] - 20s 20ms/step - loss: 0.5812 - accuracy: 0.8753\n"
     ]
    },
    {
     "data": {
      "text/plain": [
       "[0.5812488198280334, 0.8752999901771545]"
      ]
     },
     "execution_count": 53,
     "metadata": {},
     "output_type": "execute_result"
    }
   ],
   "source": [
    "model.evaluate(x_test, y_test, batch_size=batch_size)"
   ]
  },
  {
   "cell_type": "code",
   "execution_count": 47,
   "metadata": {
    "tags": []
   },
   "outputs": [
    {
     "data": {
      "image/png": "[encoded data removed]",
      "text/plain": [
       "<Figure size 640x480 with 1 Axes>"
      ]
     },
     "metadata": {},
     "output_type": "display_data"
    }
   ],
   "source": [
    "import networkx as nx\n",
    "import matplotlib.pyplot as plt\n",
    "\n",
    "G = nx.Graph()\n",
    "\n",
    "# Add input layer separately\n",
    "input_layer = model.layers[0]\n",
    "G.add_node(input_layer.name)\n",
    "\n",
    "# Add the remaining layers\n",
    "for layer in model.layers[1:]:\n",
    "    G.add_node(layer.name)\n",
    "\n",
    "# Add edges between layers\n",
    "for layer in model.layers[1:]:\n",
    "    inbound_layers = layer._inbound_nodes[0].inbound_layers\n",
    "    if isinstance(inbound_layers, list):\n",
    "        for inbound_layer in inbound_layers:\n",
    "            G.add_edge(inbound_layer.name, layer.name)\n",
    "    else:\n",
    "        G.add_edge(inbound_layers.name, layer.name)\n",
    "\n",
    "# Customize node and edge colors\n",
    "node_color = 'aqua'\n",
    "edge_color = 'gray'\n",
    "\n",
    "# Set node positions using a spring layout\n",
    "pos = nx.spring_layout(G)\n",
    "\n",
    "# Draw nodes and edges\n",
    "nx.draw_networkx_nodes(G, pos, node_color=node_color, edgecolors='black')\n",
    "nx.draw_networkx_edges(G, pos, edge_color=edge_color)\n",
    "\n",
    "# Add node labels\n",
    "labels = {node: node for node in G.nodes}\n",
    "nx.draw_networkx_labels(G, pos, labels, font_size=10)\n",
    "\n",
    "# Adjust plot margins\n",
    "ax = plt.gca()\n",
    "ax.margins(0.15)\n",
    "\n",
    "# Remove axis ticks\n",
    "plt.xticks([])\n",
    "plt.yticks([])\n",
    "\n",
    "# Show the plot\n",
    "plt.show()\n"
   ]
  },
  {
   "cell_type": "code",
   "execution_count": 54,
   "metadata": {
    "tags": []
   },
   "outputs": [
    {
     "name": "stdout",
     "output_type": "stream",
     "text": [
      "Model: \"sequential_7\"\n",
      "_________________________________________________________________\n",
      " Layer (type)                Output Shape              Param #   \n",
      "=================================================================\n",
      " mo_net_14 (MoNet)           (10, 1024, 32)            900       \n",
      "                                                                 \n",
      " m_pool1_14 (MPool1)         (10, 256, 32)             0         \n",
      "                                                                 \n",
      " dropout_19 (Dropout)        (10, 256, 32)             0         \n",
      "                                                                 \n",
      " mo_net_15 (MoNet)           (10, 256, 64)             51300     \n",
      "                                                                 \n",
      " m_pool1_15 (MPool1)         (10, 64, 64)              0         \n",
      "                                                                 \n",
      " dropout_20 (Dropout)        (10, 64, 64)              0         \n",
      "                                                                 \n",
      " flatten_7 (Flatten)         (10, 4096)                0         \n",
      "                                                                 \n",
      " dense_12 (Dense)            (10, 512)                 2097664   \n",
      "                                                                 \n",
      " dropout_21 (Dropout)        (10, 512)                 0         \n",
      "                                                                 \n",
      " dense_13 (Dense)            (10, 10)                  5130      \n",
      "                                                                 \n",
      "=================================================================\n",
      "Total params: 2,154,994\n",
      "Trainable params: 2,154,994\n",
      "Non-trainable params: 0\n",
      "_________________________________________________________________\n"
     ]
    }
   ],
   "source": [
    "model.summary()"
   ]
  }
 ],
 "metadata": {
  "accelerator": "GPU",
  "colab": {
   "collapsed_sections": [],
   "name": "MoNet.ipynb",
   "provenance": [],
   "version": "0.3.2"
  },
  "kernelspec": {
   "display_name": "Python 3 (ipykernel)",
   "language": "python",
   "name": "python3"
  },
  "language_info": {
   "codemirror_mode": {
    "name": "ipython",
    "version": 3
   },
   "file_extension": ".py",
   "mimetype": "text/x-python",
   "name": "python",
   "nbconvert_exporter": "python",
   "pygments_lexer": "ipython3",
   "version": "3.9.16"
  }
 },
 "nbformat": 4,
 "nbformat_minor": 4
}
